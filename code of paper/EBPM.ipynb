{
 "cells": [
  {
   "cell_type": "code",
   "execution_count": null,
   "id": "7219023b",
   "metadata": {},
   "outputs": [],
   "source": [
    "source('EBPM.R')"
   ]
  },
  {
   "cell_type": "markdown",
   "id": "5c74d3c7",
   "metadata": {},
   "source": [
    "# Simulated data"
   ]
  },
  {
   "cell_type": "markdown",
   "id": "f8574c4e",
   "metadata": {},
   "source": [
    "## change the length of matrix"
   ]
  },
  {
   "cell_type": "code",
   "execution_count": null,
   "id": "b0a35d4f",
   "metadata": {},
   "outputs": [],
   "source": [
    "## create simulated data\n",
    "q=100\n",
    "r=10\n",
    "for (p in seq(100,1000,100)){\n",
    "    for (n in seq(10)){\n",
    "        set.seed(n)\n",
    "        U=matrix(rnorm(p*r,0,1),p,r)\n",
    "        V=matrix(rnorm(r*q,0,1),r,q)\n",
    "        M=U%*%V\n",
    "        M=(M-min(M))/(max(M)-min(M))*7-2\n",
    "        Y=matrix(rpois(p*q,exp(M)),p,q)\n",
    "        obs=matrix(rbinom(p*q,1,0.5),p,q)\n",
    "        write.table(Y,paste('simulated data/',p,'-100-10-',n,'.txt',sep=''),row.names=F,col.names=F, sep=\" \")\n",
    "        write.table(exp(M),paste('simulated data/',p,'-100-10-',n,'-raw.txt',sep=''),row.names=F,col.names=F, sep=\" \")\n",
    "        write.table(obs,paste('simulated data/',p,'-100-10-',n,'-obs.txt',sep=''),row.names=F,col.names=F, sep=\" \")\n",
    "                    }}"
   ]
  },
  {
   "cell_type": "code",
   "execution_count": null,
   "id": "acecc384",
   "metadata": {},
   "outputs": [],
   "source": [
    "q=100\n",
    "r=10\n",
    "for (p in seq(100,1000,100)){\n",
    "    t1=c()\n",
    "    t2=c()\n",
    "    for (n in seq(10)){\n",
    "        Y=as.matrix(read.table(paste('simulated data/',p,'-100-10-',n,'.txt',sep='')))\n",
    "        obs=as.matrix(read.table(paste('simulated data/',p,'-100-10-',n,'-obs.txt',sep='')))\n",
    "        \n",
    "        s=Sys.time()\n",
    "        X=EB_denoise(Y)\n",
    "        e=Sys.time()\n",
    "        write.table(X,paste('EBPM/',p,'-100-10-',n,'-denoise.txt',sep=''),row.names=F,col.names=F, sep=\" \")\n",
    "        t1=c(t1,round(as.numeric(difftime(time1 = e, time2 = s, units = \"secs\")), 3))\n",
    "        \n",
    "        Y=Y*obs\n",
    "        s=Sys.time()\n",
    "        X=EB_complete(Y,obs)\n",
    "        e=Sys.time()\n",
    "        write.table(X,paste('EBPM/',p,'-100-10-',n,'-complete.txt',sep=''),row.names=F,col.names=F, sep=\" \")\n",
    "        t2=c(t2,round(as.numeric(difftime(time1 = e, time2 = s, units = \"secs\")), 3))\n",
    "        }\n",
    "    write.table(t1,paste('EBPM/',p,'-100-10-denoise time.txt',sep=''),row.names=F,col.names=F, sep=\" \")\n",
    "    write.table(t2,paste('EBPM/',p,'-100-10-complete time.txt',sep=''),row.names=F,col.names=F, sep=\" \")\n",
    "    }"
   ]
  },
  {
   "cell_type": "code",
   "execution_count": null,
   "id": "69518f1e",
   "metadata": {},
   "outputs": [],
   "source": [
    "q=100\n",
    "r=10\n",
    "for (p in seq(100,1000,100)){\n",
    "    for (n in seq(10)){\n",
    "        Y=as.matrix(read.table(paste('simulated data/',p,'-100-10-',n,'.txt',sep='')))\n",
    "        obs=as.matrix(read.table(paste('simulated data/',p,'-100-10-',n,'-obs.txt',sep='')))\n",
    "        \n",
    "        Y=Y*obs\n",
    "        X=EB_complete(Y,obs,iter=0)\n",
    "        write.table(X,paste('EBPM_iter=0/',p,'-100-10-',n,'-complete.txt',sep=''),row.names=F,col.names=F, sep=\" \")\n",
    "        }\n",
    "    }"
   ]
  },
  {
   "cell_type": "markdown",
   "id": "496f8287",
   "metadata": {},
   "source": [
    "## change the rank of matrix "
   ]
  },
  {
   "cell_type": "code",
   "execution_count": null,
   "id": "0dade166",
   "metadata": {},
   "outputs": [],
   "source": [
    "## create simulated data\n",
    "p=500\n",
    "q=100\n",
    "for (r in seq(5,50,5)){\n",
    "    for (n in seq(10)){\n",
    "        set.seed(n)\n",
    "        U=matrix(rnorm(p*r,0,1),p,r)\n",
    "        V=matrix(rnorm(r*q,0,1),r,q)\n",
    "        M=U%*%V\n",
    "        M=(M-min(M))/(max(M)-min(M))*7-2\n",
    "        Y=matrix(rpois(p*q,exp(M)),p,q)\n",
    "        obs=matrix(rbinom(p*q,1,0.5),p,q)\n",
    "        write.table(Y,paste('simulated data/500-100-',r,'-',n,'.txt',sep=''),row.names=F,col.names=F, sep=\" \")\n",
    "        write.table(exp(M),paste('simulated data/500-100-',r,'-',n,'-raw.txt',sep=''),row.names=F,col.names=F, sep=\" \")\n",
    "        write.table(obs,paste('simulated data/500-100-',r,'-',n,'-obs.txt',sep=''),row.names=F,col.names=F, sep=\" \")\n",
    "                    }}"
   ]
  },
  {
   "cell_type": "code",
   "execution_count": null,
   "id": "950bd5e9",
   "metadata": {},
   "outputs": [],
   "source": [
    "p=500\n",
    "q=100\n",
    "for (r in seq(5,50,5)){\n",
    "    for (n in seq(10)){\n",
    "        Y=as.matrix(read.table(paste('simulated data/500-100-',r,'-',n,'.txt',sep='')))\n",
    "        obs=as.matrix(read.table(paste('simulated data/500-100-',r,'-',n,'-obs.txt',sep='')))\n",
    "        \n",
    "        X=EB_denoise(Y)\n",
    "        write.table(X,paste('EBPM/500-100-',r,'-',n,'-denoise.txt',sep=''),row.names=F,col.names=F, sep=\" \")\n",
    "        \n",
    "        Y=Y*obs\n",
    "        X=EB_complete(Y,obs)\n",
    "        write.table(X,paste('EBPM/500-100-',r,'-',n,'-complete.txt',sep=''),row.names=F,col.names=F, sep=\" \")\n",
    "                    }}"
   ]
  },
  {
   "cell_type": "code",
   "execution_count": null,
   "id": "ecef5f18",
   "metadata": {},
   "outputs": [],
   "source": [
    "p=500\n",
    "q=100\n",
    "for (r in seq(5,50,5)){\n",
    "    for (n in seq(10)){\n",
    "        Y=as.matrix(read.table(paste('simulated data/500-100-',r,'-',n,'.txt',sep='')))\n",
    "        obs=as.matrix(read.table(paste('simulated data/500-100-',r,'-',n,'-obs.txt',sep='')))\n",
    "        \n",
    "        Y=Y*obs\n",
    "        X=EB_complete(Y,obs,iter=0)\n",
    "        write.table(X,paste('EBPM_iter=0/500-100-',r,'-',n,'-complete.txt',sep=''),row.names=F,col.names=F, sep=\" \")\n",
    "                    }}"
   ]
  },
  {
   "cell_type": "markdown",
   "id": "df002b9e",
   "metadata": {},
   "source": [
    "## change the proportion of observations "
   ]
  },
  {
   "cell_type": "code",
   "execution_count": null,
   "id": "20302387",
   "metadata": {},
   "outputs": [],
   "source": [
    "## create simulated data\n",
    "p=500\n",
    "q=100\n",
    "for (r in seq(0.1,0.9,0.1)){\n",
    "    for (n in seq(10)){\n",
    "        set.seed(n)\n",
    "        obs=matrix(rbinom(p*q,1,r),p,q)\n",
    "        write.table(obs,paste('simulated data/500-100-',n,'-',r,'-obs.txt',sep=''),row.names=F,col.names=F, sep=\" \")\n",
    "                    }}"
   ]
  },
  {
   "cell_type": "code",
   "execution_count": null,
   "id": "9db1ac07",
   "metadata": {},
   "outputs": [],
   "source": [
    "p=500\n",
    "q=100\n",
    "for (r in seq(0.1,0.9,0.1)){\n",
    "    for (n in seq(10)){\n",
    "        Y=as.matrix(read.table(paste('simulated data/500-100-10-',n,'.txt',sep='')))\n",
    "        obs=as.matrix(read.table(paste('simulated data/500-100-',n,'-',r,'-obs.txt',sep='')))\n",
    "        Y=Y*obs\n",
    "        X=EB_complete(Y,obs)\n",
    "        write.table(X,paste('EBPM/500-100-',n,'-',r,'-complete.txt',sep=''),row.names=F,col.names=F, sep=\" \")\n",
    "                    }}"
   ]
  },
  {
   "cell_type": "code",
   "execution_count": null,
   "id": "09f8bf8d",
   "metadata": {},
   "outputs": [],
   "source": [
    "p=500\n",
    "q=100\n",
    "for (r in seq(0.1,0.9,0.1)){\n",
    "    for (n in seq(10)){\n",
    "        Y=as.matrix(read.table(paste('simulated data/500-100-10-',n,'.txt',sep='')))\n",
    "        obs=as.matrix(read.table(paste('simulated data/500-100-',n,'-',r,'-obs.txt',sep='')))\n",
    "        Y=Y*obs\n",
    "        X=EB_complete(Y,obs,iter=0)\n",
    "        write.table(X,paste('EBPM_iter=0/500-100-',n,'-',r,'-complete.txt',sep=''),row.names=F,col.names=F, sep=\" \")\n",
    "                    }}"
   ]
  },
  {
   "cell_type": "markdown",
   "id": "f2b928c5",
   "metadata": {},
   "source": [
    "# real data"
   ]
  },
  {
   "cell_type": "markdown",
   "id": "fa9d77de",
   "metadata": {},
   "source": [
    "## hic data "
   ]
  },
  {
   "cell_type": "code",
   "execution_count": null,
   "id": "86ebe989",
   "metadata": {},
   "outputs": [],
   "source": [
    "p=200\n",
    "q=100\n",
    "for (r in seq(0.5,0.9,0.1)){\n",
    "    for (n in seq(10)){\n",
    "        set.seed(n)\n",
    "        obs=matrix(rbinom(p*q,1,r),p,q)\n",
    "        write.table(obs,paste('real data/hic-',n,'-',r,'-obs.txt',sep=''),row.names=F,col.names=F, sep=\" \")\n",
    "                    }}"
   ]
  },
  {
   "cell_type": "code",
   "execution_count": null,
   "id": "785a8490",
   "metadata": {},
   "outputs": [],
   "source": [
    "for (r in seq(0.5,0.9,0.1)){\n",
    "    for (n in seq(10)){\n",
    "        Y=as.matrix(read.table(paste('real data/hic_chr22_24_32_36mb.csv',sep=',')))\n",
    "        obs=as.matrix(read.table(paste('real data/hic-',n,'-',r,'-obs.txt',sep='')))\n",
    "        Y=Y*obs\n",
    "        X=EB_complete(Y,obs)\n",
    "        write.table(X,paste('EBPM/hic-',n,'-',r,'-complete.txt',sep=''),row.names=F,col.names=F, sep=\" \")\n",
    "                    }}"
   ]
  },
  {
   "cell_type": "code",
   "execution_count": null,
   "id": "58bdc9a2",
   "metadata": {},
   "outputs": [],
   "source": [
    "for (r in seq(0.5,0.9,0.1)){\n",
    "    for (n in seq(10)){\n",
    "        Y=as.matrix(read.table(paste('real data/hic_chr22_24_32_36mb.csv',sep=',')))\n",
    "        obs=as.matrix(read.table(paste('real data/hic-',n,'-',r,'-obs.txt',sep='')))\n",
    "        Y=Y*obs\n",
    "        X=EB_complete(Y,obs,iter=0)\n",
    "        write.table(X,paste('EBPM_iter=0/hic-',n,'-',r,'-complete.txt',sep=''),row.names=F,col.names=F, sep=\" \")\n",
    "                    }}"
   ]
  },
  {
   "cell_type": "markdown",
   "id": "c6425d4c",
   "metadata": {},
   "source": [
    "## bike data "
   ]
  },
  {
   "cell_type": "code",
   "execution_count": null,
   "id": "7032e882",
   "metadata": {},
   "outputs": [],
   "source": [
    "p=105\n",
    "q=24\n",
    "for (r in seq(0.5,0.9,0.1)){\n",
    "    for (n in seq(10)){\n",
    "        set.seed(n)\n",
    "        obs=matrix(rbinom(p*q,1,r),p,q)\n",
    "        write.table(obs,paste('real data/bike-',n,'-',r,'-obs.txt',sep=''),row.names=F,col.names=F, sep=\" \")\n",
    "                    }}"
   ]
  },
  {
   "cell_type": "code",
   "execution_count": null,
   "id": "c09d3b8e",
   "metadata": {},
   "outputs": [],
   "source": [
    "for (r in seq(0.5,0.9,0.1)){\n",
    "    for (n in seq(10)){\n",
    "        Y=as.matrix(read.table(paste('real data/bike.csv',sep=',')))\n",
    "        obs=as.matrix(read.table(paste('real data/bike-',n,'-',r,'-obs.txt',sep='')))\n",
    "        Y=Y*obs\n",
    "        X=EB_complete(Y,obs)\n",
    "        write.table(X,paste('EBPM/bike-',n,'-',r,'-complete.txt',sep=''),row.names=F,col.names=F, sep=\" \")\n",
    "                    }}"
   ]
  },
  {
   "cell_type": "code",
   "execution_count": null,
   "id": "66d5363a",
   "metadata": {},
   "outputs": [],
   "source": [
    "for (r in seq(0.5,0.9,0.1)){\n",
    "    for (n in seq(10)){\n",
    "        Y=as.matrix(read.table(paste('real data/bike.csv',sep=',')))\n",
    "        obs=as.matrix(read.table(paste('real data/bike-',n,'-',r,'-obs.txt',sep='')))\n",
    "        Y=Y*obs\n",
    "        X=EB_complete(Y,obs,iter=0)\n",
    "        write.table(X,paste('EBPM_iter=0/bike-',n,'-',r,'-complete.txt',sep=''),row.names=F,col.names=F, sep=\" \")\n",
    "                    }}"
   ]
  },
  {
   "cell_type": "markdown",
   "id": "334714e1",
   "metadata": {},
   "source": [
    "## Brain image data "
   ]
  },
  {
   "cell_type": "code",
   "execution_count": null,
   "id": "9290d712",
   "metadata": {},
   "outputs": [],
   "source": [
    "p=24\n",
    "q=24\n",
    "for (r in seq(0.5,0.9,0.1)){\n",
    "    for (n in seq(10)){\n",
    "        set.seed(n)\n",
    "        obs=matrix(rbinom(p*q,1,r),p,q)\n",
    "        write.table(obs,paste('real data/brain_image-',n,'-',r,'-obs.txt',sep=''),row.names=F,col.names=F, sep=\" \")\n",
    "                    }}"
   ]
  },
  {
   "cell_type": "code",
   "execution_count": null,
   "id": "ec416a8c",
   "metadata": {},
   "outputs": [],
   "source": [
    "options(warn=-1)\n",
    "for (r in seq(0.5,0.9,0.1)){\n",
    "    for (n in seq(10)){\n",
    "        Y=as.matrix(read.table(paste('real data/brain_image.csv',sep=',')))\n",
    "        obs=as.matrix(read.table(paste('real data/brain_image-',n,'-',r,'-obs.txt',sep='')))\n",
    "        Y=Y*obs\n",
    "        X=EB_complete(Y,obs)\n",
    "        write.table(X,paste('EBPM/brain_image-',n,'-',r,'-complete.txt',sep=''),row.names=F,col.names=F, sep=\" \")\n",
    "                    }}"
   ]
  },
  {
   "cell_type": "code",
   "execution_count": null,
   "id": "3e4527a5",
   "metadata": {},
   "outputs": [],
   "source": [
    "options(warn=-1)\n",
    "for (r in seq(0.5,0.9,0.1)){\n",
    "    for (n in seq(10)){\n",
    "        Y=as.matrix(read.table(paste('real data/brain_image.csv',sep=',')))\n",
    "        obs=as.matrix(read.table(paste('real data/brain_image-',n,'-',r,'-obs.txt',sep='')))\n",
    "        Y=Y*obs\n",
    "        X=EB_complete(Y,obs)\n",
    "        write.table(X,paste('EBPM_iter=0/brain_image-',n,'-',r,'-complete.txt',sep=''),row.names=F,col.names=F, sep=\" \")\n",
    "                    }}"
   ]
  }
 ],
 "metadata": {
  "kernelspec": {
   "display_name": "R",
   "language": "R",
   "name": "ir"
  },
  "language_info": {
   "codemirror_mode": "r",
   "file_extension": ".r",
   "mimetype": "text/x-r-source",
   "name": "R",
   "pygments_lexer": "r",
   "version": "4.2.2"
  }
 },
 "nbformat": 4,
 "nbformat_minor": 5
}
