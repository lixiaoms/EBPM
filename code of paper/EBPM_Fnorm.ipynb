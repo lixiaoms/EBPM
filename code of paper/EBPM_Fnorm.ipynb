{
 "cells": [
  {
   "cell_type": "code",
   "execution_count": null,
   "id": "f49ddb96",
   "metadata": {},
   "outputs": [],
   "source": [
    "source('EBPM_Fnorm.R')"
   ]
  },
  {
   "cell_type": "markdown",
   "id": "9288c60c",
   "metadata": {},
   "source": [
    "# Simulated data\n",
    "## change the length of matrix"
   ]
  },
  {
   "cell_type": "code",
   "execution_count": null,
   "id": "ba870045",
   "metadata": {},
   "outputs": [],
   "source": [
    "q=100\n",
    "r=10\n",
    "for (p in seq(100,1000,100)){\n",
    "    t1=c()\n",
    "    t2=c()\n",
    "    for (n in seq(10)){\n",
    "        Y=as.matrix(read.table(paste('simulated data/',p,'-100-10-',n,'.txt',sep='')))\n",
    "        obs=as.matrix(read.table(paste('simulated data/',p,'-100-10-',n,'-obs.txt',sep='')))\n",
    "        \n",
    "        s=Sys.time()\n",
    "        X=EB_denoise(Y)\n",
    "        e=Sys.time()\n",
    "        write.table(X,paste('EBPM_Fnorm/',p,'-100-10-',n,'-denoise.txt',sep=''),row.names=F,col.names=F, sep=\" \")\n",
    "        t1=c(t1,round(as.numeric(difftime(time1 = e, time2 = s, units = \"secs\")), 3))\n",
    "        \n",
    "        Y=Y*obs\n",
    "        s=Sys.time()\n",
    "        X=EB_complete(Y,obs)\n",
    "        e=Sys.time()\n",
    "        write.table(X,paste('EBPM_Fnorm/',p,'-100-10-',n,'-complete.txt',sep=''),row.names=F,col.names=F, sep=\" \")\n",
    "        t2=c(t2,round(as.numeric(difftime(time1 = e, time2 = s, units = \"secs\")), 3))\n",
    "        }\n",
    "    write.table(t1,paste('EBPM_Fnorm/',p,'-100-10-denoise time.txt',sep=''),row.names=F,col.names=F, sep=\" \")\n",
    "    write.table(t2,paste('EBPM_Fnorm/',p,'-100-10-complete time.txt',sep=''),row.names=F,col.names=F, sep=\" \")\n",
    "    }"
   ]
  },
  {
   "cell_type": "markdown",
   "id": "614de9c4",
   "metadata": {},
   "source": [
    "## change the rank of matrix "
   ]
  },
  {
   "cell_type": "code",
   "execution_count": null,
   "id": "e4b970f3",
   "metadata": {},
   "outputs": [],
   "source": [
    "p=500\n",
    "q=100\n",
    "for (r in seq(5,50,5)){\n",
    "    for (n in seq(10)){\n",
    "        Y=as.matrix(read.table(paste('simulated data/500-100-',r,'-',n,'.txt',sep='')))\n",
    "        obs=as.matrix(read.table(paste('simulated data/500-100-',r,'-',n,'-obs.txt',sep='')))\n",
    "        \n",
    "        X=EB_denoise(Y)\n",
    "        write.table(X,paste('EBPM_Fnorm/500-100-',r,'-',n,'-denoise.txt',sep=''),row.names=F,col.names=F, sep=\" \")\n",
    "        \n",
    "        Y=Y*obs\n",
    "        X=EB_complete(Y,obs)\n",
    "        write.table(X,paste('EBPM_Fnorm/500-100-',r,'-',n,'-complete.txt',sep=''),row.names=F,col.names=F, sep=\" \")\n",
    "                    }}"
   ]
  },
  {
   "cell_type": "markdown",
   "id": "3528e8cd",
   "metadata": {},
   "source": [
    "## change the proportion of observations "
   ]
  },
  {
   "cell_type": "code",
   "execution_count": null,
   "id": "ea54060c",
   "metadata": {},
   "outputs": [],
   "source": [
    "p=500\n",
    "q=100\n",
    "for (r in seq(0.1,0.9,0.1)){\n",
    "    for (n in seq(10)){\n",
    "        Y=as.matrix(read.table(paste('simulated data/500-100-10-',n,'.txt',sep='')))\n",
    "        obs=as.matrix(read.table(paste('simulated data/500-100-',n,'-',r,'-obs.txt',sep='')))\n",
    "        Y=Y*obs\n",
    "        X=EB_complete(Y,obs)\n",
    "        write.table(X,paste('EBPM_Fnorm/500-100-',n,'-',r,'-complete.txt',sep=''),row.names=F,col.names=F, sep=\" \")\n",
    "                    }}"
   ]
  },
  {
   "cell_type": "markdown",
   "id": "d15b76a5",
   "metadata": {},
   "source": [
    "# real data\n",
    "## hic data"
   ]
  },
  {
   "cell_type": "code",
   "execution_count": null,
   "id": "26f14c70",
   "metadata": {},
   "outputs": [],
   "source": [
    "for (r in seq(0.5,0.9,0.1)){\n",
    "    for (n in seq(10)){\n",
    "        Y=as.matrix(read.table(paste('real data/hic_chr22_24_32_36mb.csv',sep=',')))\n",
    "        obs=as.matrix(read.table(paste('real data/hic-',n,'-',r,'-obs.txt',sep='')))\n",
    "        Y=Y*obs\n",
    "        X=EB_complete(Y,obs)\n",
    "        write.table(X,paste('EBPM_Fnorm/hic-',n,'-',r,'-complete.txt',sep=''),row.names=F,col.names=F, sep=\" \")\n",
    "                    }}"
   ]
  },
  {
   "cell_type": "markdown",
   "id": "c1b85697",
   "metadata": {},
   "source": [
    "## bike data "
   ]
  },
  {
   "cell_type": "code",
   "execution_count": null,
   "id": "fce096be",
   "metadata": {},
   "outputs": [],
   "source": [
    "for (r in seq(0.5,0.9,0.1)){\n",
    "    for (n in seq(10)){\n",
    "        Y=as.matrix(read.table(paste('real data/bike.csv',sep=',')))\n",
    "        obs=as.matrix(read.table(paste('real data/bike-',n,'-',r,'-obs.txt',sep='')))\n",
    "        Y=Y*obs\n",
    "        X=EB_complete(Y,obs)\n",
    "        write.table(X,paste('EBPM_Fnorm/bike-',n,'-',r,'-complete.txt',sep=''),row.names=F,col.names=F, sep=\" \")\n",
    "                    }}"
   ]
  },
  {
   "cell_type": "markdown",
   "id": "ba2a95ff",
   "metadata": {},
   "source": [
    "## Brain image data "
   ]
  },
  {
   "cell_type": "code",
   "execution_count": null,
   "id": "3a5e2d02",
   "metadata": {},
   "outputs": [],
   "source": [
    "options(warn=-1)\n",
    "for (r in seq(0.5,0.9,0.1)){\n",
    "    for (n in seq(10)){\n",
    "        Y=as.matrix(read.table(paste('real data/brain_image.csv',sep=',')))\n",
    "        obs=as.matrix(read.table(paste('real data/brain_image-',n,'-',r,'-obs.txt',sep='')))\n",
    "        Y=Y*obs\n",
    "        X=EB_complete(Y,obs)\n",
    "        write.table(X,paste('EBPM_Fnorm/brain_image-',n,'-',r,'-complete.txt',sep=''),row.names=F,col.names=F, sep=\" \")\n",
    "                    }}"
   ]
  },
  {
   "cell_type": "code",
   "execution_count": null,
   "id": "c9c7f3ae",
   "metadata": {},
   "outputs": [],
   "source": []
  }
 ],
 "metadata": {
  "kernelspec": {
   "display_name": "R",
   "language": "R",
   "name": "ir"
  },
  "language_info": {
   "codemirror_mode": "r",
   "file_extension": ".r",
   "mimetype": "text/x-r-source",
   "name": "R",
   "pygments_lexer": "r",
   "version": "4.2.2"
  }
 },
 "nbformat": 4,
 "nbformat_minor": 5
}
