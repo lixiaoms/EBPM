{
 "cells": [
  {
   "cell_type": "code",
   "execution_count": null,
   "id": "e6a5984a",
   "metadata": {},
   "outputs": [],
   "source": [
    "library(lori)"
   ]
  },
  {
   "cell_type": "markdown",
   "id": "2f10d142",
   "metadata": {},
   "source": [
    "# Simulated data"
   ]
  },
  {
   "cell_type": "markdown",
   "id": "6de6ddc1",
   "metadata": {},
   "source": [
    "## change the length of matrix"
   ]
  },
  {
   "cell_type": "code",
   "execution_count": null,
   "id": "58b6c703",
   "metadata": {},
   "outputs": [],
   "source": [
    "q=100\n",
    "r=10\n",
    "for (p in seq(100,1000,100)){\n",
    "    t1=c()\n",
    "    t2=c()\n",
    "    for (n in seq(10)){\n",
    "        Y=as.matrix(read.table(paste('simulated data/',p,'-100-10-',n,'.txt',sep='')))\n",
    "        obs=as.matrix(read.table(paste('simulated data/',p,'-100-10-',n,'-obs.txt',sep='')))\n",
    "        \n",
    "        s=Sys.time()\n",
    "        R <- matrix(1,p,1) # matrix of row covariates\n",
    "        C <- matrix(1,q,1) # matrix of column covariates\n",
    "        U <- covmat(p, q, R, C)\n",
    "        res.cv <- cv.lori(Y, U,intercept = T,reff = T,ceff = T)\n",
    "        res.lori <- lori(Y, U, res.cv$lambda1, res.cv$lambda2, intercept = T,reff = T,ceff = T)\n",
    "        e=Sys.time()\n",
    "        write.table(res.lori$X,paste('lori/',p,'-100-10-',n,'-denoise.txt',sep=''),row.names=F,col.names=F, sep=\" \")\n",
    "        t1=c(t1,round(as.numeric(difftime(time1 = e, time2 = s, units = \"secs\")), 3))\n",
    "        \n",
    "        Y[obs==0]=NA\n",
    "        s=Sys.time()\n",
    "        R <- matrix(1,p,1) # matrix of row covariates\n",
    "        C <- matrix(1,q,1) # matrix of column covariates\n",
    "        U <- covmat(p, q, R, C)\n",
    "        res.cv <- cv.lori(Y, U,intercept = T,reff = T,ceff = T)\n",
    "        res.lori <- lori(Y, U, res.cv$lambda1, res.cv$lambda2, intercept = T,reff = T,ceff = T)\n",
    "        e=Sys.time()\n",
    "        write.table(res.lori$X,paste('lori/',p,'-100-10-',n,'-complete.txt',sep=''),row.names=F,col.names=F, sep=\" \")\n",
    "        t2=c(t2,round(as.numeric(difftime(time1 = e, time2 = s, units = \"secs\")), 3))\n",
    "        }\n",
    "    write.table(t1,paste('lori/',p,'-100-10-denoise time.txt',sep=''),row.names=F,col.names=F, sep=\" \")\n",
    "    write.table(t2,paste('lori/',p,'-100-10-complete time.txt',sep=''),row.names=F,col.names=F, sep=\" \")\n",
    "    }"
   ]
  },
  {
   "cell_type": "markdown",
   "id": "c07c4290",
   "metadata": {},
   "source": [
    "## change the rank of matrix  "
   ]
  },
  {
   "cell_type": "code",
   "execution_count": null,
   "id": "48065807",
   "metadata": {
    "scrolled": true
   },
   "outputs": [],
   "source": [
    "p=500\n",
    "q=100\n",
    "for (r in seq(5,50,5)){\n",
    "    if (r==10){ next }\n",
    "    for (n in seq(10)){\n",
    "        Y=as.matrix(read.table(paste('simulated data/500-100-',r,'-',n,'.txt',sep='')))\n",
    "        obs=as.matrix(read.table(paste('simulated data/500-100-',r,'-',n,'-obs.txt',sep='')))\n",
    "        \n",
    "        R <- matrix(1,p,1) # matrix of row covariates\n",
    "        C <- matrix(1,q,1) # matrix of column covariates\n",
    "        U <- covmat(p, q, R, C)\n",
    "        res.cv <- cv.lori(Y, U,intercept = T,reff = T,ceff = T)\n",
    "        res.lori <- lori(Y, U, res.cv$lambda1, res.cv$lambda2, intercept = T,reff = T,ceff = T)\n",
    "        write.table(res.lori$X,paste('lori/500-100-',r,'-',n,'-denoise.txt',sep=''),row.names=F,col.names=F, sep=\" \")\n",
    "        \n",
    "        Y[obs==0]=NA\n",
    "        R <- matrix(1,p,1) # matrix of row covariates\n",
    "        C <- matrix(1,q,1) # matrix of column covariates\n",
    "        U <- covmat(p, q, R, C)\n",
    "        res.cv <- cv.lori(Y, U,intercept = T,reff = T,ceff = T)\n",
    "        res.lori <- lori(Y, U, res.cv$lambda1, res.cv$lambda2, intercept = T,reff = T,ceff = T)\n",
    "        write.table(res.lori$X, paste('lori/500-100-',r,'-',n,'-complete.txt',sep=''),row.names=F,col.names=F, sep=\" \")\n",
    "                    }}"
   ]
  },
  {
   "cell_type": "markdown",
   "id": "2a8e68e8",
   "metadata": {},
   "source": [
    "## change the proportion of observations"
   ]
  },
  {
   "cell_type": "code",
   "execution_count": null,
   "id": "4b3a0aac",
   "metadata": {},
   "outputs": [],
   "source": [
    "p=500\n",
    "q=100\n",
    "for (r in seq(0.1,0.9,0.1)){\n",
    "    for (n in seq(10)){\n",
    "        Y=as.matrix(read.table(paste('simulated data/500-100-10-',n,'.txt',sep='')))\n",
    "        obs=as.matrix(read.table(paste('simulated data/500-100-',n,'-',r,'-obs.txt',sep='')))\n",
    "        \n",
    "        Y[obs==0]=NA\n",
    "        R <- matrix(1,p,1) # matrix of row covariates\n",
    "        C <- matrix(1,q,1) # matrix of column covariates\n",
    "        U <- covmat(p, q, R, C)\n",
    "        res.cv <- cv.lori(Y, U,intercept = T,reff = T,ceff = T)\n",
    "        res.lori <- lori(Y, U, res.cv$lambda1, res.cv$lambda2, intercept = T,reff = T,ceff = T)\n",
    "        write.table(res.lori$X, paste('lori/500-100-',n,'-',r,'-complete.txt',sep=''),row.names=F,col.names=F, sep=\" \")\n",
    "                    }}"
   ]
  },
  {
   "cell_type": "code",
   "execution_count": null,
   "id": "08a9660e",
   "metadata": {},
   "outputs": [],
   "source": []
  },
  {
   "cell_type": "markdown",
   "id": "7ad2f83a",
   "metadata": {},
   "source": [
    "# real data"
   ]
  },
  {
   "cell_type": "markdown",
   "id": "7bb97394",
   "metadata": {},
   "source": [
    "## hic data "
   ]
  },
  {
   "cell_type": "code",
   "execution_count": null,
   "id": "0b3c9a62",
   "metadata": {},
   "outputs": [],
   "source": [
    "p=200\n",
    "q=100\n",
    "for (r in seq(0.5,0.9,0.1)){\n",
    "    for (n in seq(10)){\n",
    "        Y=as.matrix(read.table(paste('real data/hic_chr22_24_32_36mb.csv',sep=',')))\n",
    "        obs=as.matrix(read.table(paste('real data/hic-',n,'-',r,'-obs.txt',sep='')))\n",
    "        Y[obs==0]=NA\n",
    "        \n",
    "        R <- matrix(1,p,1) # matrix of row covariates\n",
    "        C <- matrix(1,q,1) # matrix of column covariates\n",
    "        U <- covmat(p, q, R, C)\n",
    "        res.cv <- cv.lori(Y, U,intercept = T,reff = T,ceff = T)\n",
    "        res.lori <- lori(Y, U, res.cv$lambda1, res.cv$lambda2, intercept = T,reff = T,ceff = T)\n",
    "        write.table(res.lori$X,paste('lori/hic-',n,'-',r,'-complete.txt',sep=''),row.names=F,col.names=F, sep=\" \")\n",
    "                    }}"
   ]
  },
  {
   "cell_type": "markdown",
   "id": "19735777",
   "metadata": {},
   "source": [
    "## bike data "
   ]
  },
  {
   "cell_type": "code",
   "execution_count": null,
   "id": "734cad8b",
   "metadata": {},
   "outputs": [],
   "source": [
    "p=105\n",
    "q=24\n",
    "for (r in seq(0.5,0.9,0.1)){\n",
    "    for (n in seq(10)){\n",
    "        Y=as.matrix(read.table(paste('real data/bike.csv',sep=',')))\n",
    "        obs=as.matrix(read.table(paste('real data/bike-',n,'-',r,'-obs.txt',sep='')))\n",
    "        Y[obs==0]=NA\n",
    "        \n",
    "        R <- matrix(1,p,1) # matrix of row covariates\n",
    "        C <- matrix(1,q,1) # matrix of column covariates\n",
    "        U <- covmat(p, q, R, C)\n",
    "        res.cv <- cv.lori(Y, U,intercept = T,reff = T,ceff = T)\n",
    "        res.lori <- lori(Y, U, res.cv$lambda1, res.cv$lambda2, intercept = T,reff = T,ceff = T)\n",
    "        write.table(res.lori$X,paste('lori/bike-',n,'-',r,'-complete.txt',sep=''),row.names=F,col.names=F, sep=\" \")\n",
    "                    }}"
   ]
  },
  {
   "cell_type": "markdown",
   "id": "802fd735",
   "metadata": {},
   "source": [
    "## brain image data "
   ]
  },
  {
   "cell_type": "code",
   "execution_count": null,
   "id": "9462a43a",
   "metadata": {},
   "outputs": [],
   "source": [
    "p=24\n",
    "q=24\n",
    "for (r in seq(0.5,0.9,0.1)){\n",
    "    for (n in seq(10)){\n",
    "        Y=as.matrix(read.table(paste('real data/brain_image.csv',sep=',')))\n",
    "        obs=as.matrix(read.table(paste('real data/brain_image-',n,'-',r,'-obs.txt',sep='')))\n",
    "        Y[obs==0]=NA\n",
    "        \n",
    "        R <- matrix(1,p,1) # matrix of row covariates\n",
    "        C <- matrix(1,q,1) # matrix of column covariates\n",
    "        U <- covmat(p, q, R, C)\n",
    "        res.cv <- cv.lori(Y, U,intercept = T,reff = T,ceff = T)\n",
    "        res.lori <- lori(Y, U, res.cv$lambda1, res.cv$lambda2, intercept = T,reff = T,ceff = T)\n",
    "        write.table(res.lori$X, paste('lori/brain_image-',n,'-',r,'-complete.txt',sep=''),row.names=F,col.names=F, sep=\" \")\n",
    "                    }}"
   ]
  }
 ],
 "metadata": {
  "kernelspec": {
   "display_name": "R",
   "language": "R",
   "name": "ir"
  },
  "language_info": {
   "codemirror_mode": "r",
   "file_extension": ".r",
   "mimetype": "text/x-r-source",
   "name": "R",
   "pygments_lexer": "r",
   "version": "4.2.2"
  }
 },
 "nbformat": 4,
 "nbformat_minor": 5
}
