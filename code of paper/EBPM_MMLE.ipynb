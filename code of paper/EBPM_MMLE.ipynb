{
 "cells": [
  {
   "cell_type": "code",
   "execution_count": null,
   "id": "d2ce2c40",
   "metadata": {},
   "outputs": [],
   "source": [
    "source('EBPM_MMLE.R')"
   ]
  },
  {
   "cell_type": "markdown",
   "id": "8eba9fed",
   "metadata": {},
   "source": [
    "# Simulated data"
   ]
  },
  {
   "cell_type": "markdown",
   "id": "962a0ca4",
   "metadata": {},
   "source": [
    "## change the length of matrix "
   ]
  },
  {
   "cell_type": "code",
   "execution_count": null,
   "id": "bed42baf",
   "metadata": {},
   "outputs": [],
   "source": [
    "q=100\n",
    "r=10\n",
    "for (p in seq(100,1000,100)){\n",
    "    t1=c()\n",
    "    t2=c()\n",
    "    for (n in seq(10)){\n",
    "        Y=as.matrix(read.table(paste('simulated data/',p,'-100-10-',n,'.txt',sep='')))\n",
    "        obs=as.matrix(read.table(paste('simulated data/',p,'-100-10-',n,'-obs.txt',sep='')))\n",
    "        \n",
    "        s=Sys.time()\n",
    "        X=EB_mmle_denoise(Y)\n",
    "        e=Sys.time()\n",
    "        write.table(X,paste('EBPM_MMLE/',p,'-100-10-',n,'-denoise.txt',sep=''),row.names=F,col.names=F, sep=\" \")\n",
    "        t1=c(t1,round(as.numeric(difftime(time1 = e, time2 = s, units = \"secs\")), 3))\n",
    "        \n",
    "        Y=Y*obs\n",
    "        s=Sys.time()\n",
    "        X=EB_mmle_complete(Y,obs)\n",
    "        e=Sys.time()\n",
    "        write.table(X,paste('EBPM_MMLE/',p,'-100-10-',n,'-complete.txt',sep=''),row.names=F,col.names=F, sep=\" \")\n",
    "        t2=c(t2,round(as.numeric(difftime(time1 = e, time2 = s, units = \"secs\")), 3))\n",
    "        }\n",
    "    write.table(t1,paste('EBPM_MMLE/',p,'-100-10-denoise time.txt',sep=''),row.names=F,col.names=F, sep=\" \")\n",
    "    write.table(t2,paste('EBPM_MMLE/',p,'-100-10-complete time.txt',sep=''),row.names=F,col.names=F, sep=\" \")\n",
    "    }"
   ]
  },
  {
   "cell_type": "code",
   "execution_count": null,
   "id": "10903684",
   "metadata": {},
   "outputs": [],
   "source": [
    "q=100\n",
    "r=10\n",
    "for (p in seq(100,1000,100)){\n",
    "    t2=c()\n",
    "    for (n in seq(10)){\n",
    "        Y=as.matrix(read.table(paste('simulated data/',p,'-100-10-',n,'.txt',sep='')))\n",
    "        obs=as.matrix(read.table(paste('simulated data/',p,'-100-10-',n,'-obs.txt',sep='')))\n",
    "        \n",
    "        Y=Y*obs\n",
    "        s=Sys.time()\n",
    "        X=EB_mmle_complete(Y,obs,iter=0)\n",
    "        e=Sys.time()\n",
    "        write.table(X,paste('EBPM_MMLE_iter=0/',p,'-100-10-',n,'-complete.txt',sep=''),row.names=F,col.names=F, sep=\" \")\n",
    "        t2=c(t2,round(as.numeric(difftime(time1 = e, time2 = s, units = \"secs\")), 3))\n",
    "        }\n",
    "    write.table(t2,paste('EBPM_MMLE_iter=0/',p,'-100-10-complete time.txt',sep=''),row.names=F,col.names=F, sep=\" \")\n",
    "    }"
   ]
  },
  {
   "cell_type": "markdown",
   "id": "3b6b6a7b",
   "metadata": {},
   "source": [
    "## change the rank of matrix "
   ]
  },
  {
   "cell_type": "code",
   "execution_count": null,
   "id": "aecbfb66",
   "metadata": {},
   "outputs": [],
   "source": [
    "p=500\n",
    "q=100\n",
    "for (r in seq(5,50,5)){\n",
    "    for (n in seq(10)){\n",
    "        Y=as.matrix(read.table(paste('simulated data/500-100-',r,'-',n,'.txt',sep='')))\n",
    "        obs=as.matrix(read.table(paste('simulated data/500-100-',r,'-',n,'-obs.txt',sep='')))\n",
    "        \n",
    "        X=EB_mmle_denoise(Y)\n",
    "        write.table(X,paste('EBPM_MMLE/500-100-',r,'-',n,'-denoise.txt',sep=''),row.names=F,col.names=F, sep=\" \")\n",
    "        \n",
    "        Y=Y*obs\n",
    "        X=EB_mmle_complete(Y,obs)\n",
    "        write.table(X,paste('EBPM_MMLE/500-100-',r,'-',n,'-complete.txt',sep=''),row.names=F,col.names=F, sep=\" \")\n",
    "                    }}"
   ]
  },
  {
   "cell_type": "code",
   "execution_count": null,
   "id": "9d819731",
   "metadata": {},
   "outputs": [],
   "source": [
    "p=500\n",
    "q=100\n",
    "for (r in seq(5,50,5)){\n",
    "    for (n in seq(10)){\n",
    "        Y=as.matrix(read.table(paste('simulated data/500-100-',r,'-',n,'.txt',sep='')))\n",
    "        obs=as.matrix(read.table(paste('simulated data/500-100-',r,'-',n,'-obs.txt',sep='')))\n",
    "        \n",
    "        Y=Y*obs\n",
    "        X=EB_mmle_complete(Y,obs,iter=0)\n",
    "        write.table(X,paste('EBPM_MMLE_iter=0/500-100-',r,'-',n,'-complete.txt',sep=''),row.names=F,col.names=F, sep=\" \")\n",
    "                    }}"
   ]
  },
  {
   "cell_type": "markdown",
   "id": "1df32185",
   "metadata": {},
   "source": [
    "## change the proportion of observations"
   ]
  },
  {
   "cell_type": "code",
   "execution_count": null,
   "id": "33d6ec1f",
   "metadata": {},
   "outputs": [],
   "source": [
    "p=500\n",
    "q=100\n",
    "for (r in seq(0.1,0.9,0.1)){\n",
    "    for (n in seq(10)){\n",
    "        Y=as.matrix(read.table(paste('simulated data/500-100-10-',n,'.txt',sep='')))\n",
    "        obs=as.matrix(read.table(paste('simulated data/500-100-',n,'-',r,'-obs.txt',sep='')))\n",
    "        Y=Y*obs\n",
    "        X=EB_mmle_complete(Y,obs)\n",
    "        write.table(X,paste('EBPM_MMLE/500-100-',n,'-',r,'-complete.txt',sep=''),row.names=F,col.names=F, sep=\" \")\n",
    "                    }}"
   ]
  },
  {
   "cell_type": "code",
   "execution_count": null,
   "id": "a07e9224",
   "metadata": {},
   "outputs": [],
   "source": [
    "p=500\n",
    "q=100\n",
    "for (r in seq(0.1,0.9,0.1)){\n",
    "    for (n in seq(10)){\n",
    "        Y=as.matrix(read.table(paste('simulated data/500-100-10-',n,'.txt',sep='')))\n",
    "        obs=as.matrix(read.table(paste('simulated data/500-100-',n,'-',r,'-obs.txt',sep='')))\n",
    "        Y=Y*obs\n",
    "        X=EB_mmle_complete(Y,obs,iter=0)\n",
    "        write.table(X,paste('EBPM_MMLE_iter=0/500-100-',n,'-',r,'-complete.txt',sep=''),row.names=F,col.names=F, sep=\" \")\n",
    "                    }}"
   ]
  },
  {
   "cell_type": "markdown",
   "id": "d44d9ffb",
   "metadata": {},
   "source": [
    "# real data"
   ]
  },
  {
   "cell_type": "markdown",
   "id": "6741999c",
   "metadata": {},
   "source": [
    "## hic data"
   ]
  },
  {
   "cell_type": "code",
   "execution_count": null,
   "id": "e899264d",
   "metadata": {},
   "outputs": [],
   "source": [
    "for (r in seq(0.5,0.9,0.1)){\n",
    "    for (n in seq(10)){\n",
    "        Y=as.matrix(read.table(paste('real data/hic_chr22_24_32_36mb.csv',sep=',')))\n",
    "        obs=as.matrix(read.table(paste('real data/hic-',n,'-',r,'-obs.txt',sep='')))\n",
    "        Y=Y*obs\n",
    "        X=EB_mmle_complete(Y,obs)\n",
    "        write.table(X,paste('EBPM_MMLE/hic-',n,'-',r,'-complete.txt',sep=''),row.names=F,col.names=F, sep=\" \")\n",
    "                    }}"
   ]
  },
  {
   "cell_type": "code",
   "execution_count": null,
   "id": "f423ed3d",
   "metadata": {},
   "outputs": [],
   "source": [
    "for (r in seq(0.5,0.9,0.1)){\n",
    "    for (n in seq(10)){\n",
    "        Y=as.matrix(read.table(paste('real data/hic_chr22_24_32_36mb.csv',sep=',')))\n",
    "        obs=as.matrix(read.table(paste('real data/hic-',n,'-',r,'-obs.txt',sep='')))\n",
    "        Y=Y*obs\n",
    "        X=EB_mmle_complete(Y,obs,iter=0,control=1)\n",
    "        write.table(X,paste('EBPM_MMLE_iter=0/hic-',n,'-',r,'-complete.txt',sep=''),row.names=F,col.names=F, sep=\" \")\n",
    "                    }}"
   ]
  },
  {
   "cell_type": "markdown",
   "id": "dcc4bba4",
   "metadata": {},
   "source": [
    "## bike data "
   ]
  },
  {
   "cell_type": "code",
   "execution_count": null,
   "id": "b62bb619",
   "metadata": {},
   "outputs": [],
   "source": [
    "for (r in seq(0.5,0.9,0.1)){\n",
    "    for (n in seq(10)){\n",
    "        Y=as.matrix(read.table(paste('real data/bike.csv',sep=',')))\n",
    "        obs=as.matrix(read.table(paste('real data/bike-',n,'-',r,'-obs.txt',sep='')))\n",
    "        Y=Y*obs\n",
    "        X=EB_mmle_complete(Y,obs)\n",
    "        write.table(X,paste('EBPM_MMLE/bike-',n,'-',r,'-complete.txt',sep=''),row.names=F,col.names=F, sep=\" \")\n",
    "                    }}"
   ]
  },
  {
   "cell_type": "code",
   "execution_count": null,
   "id": "381c1ae9",
   "metadata": {},
   "outputs": [],
   "source": [
    "for (r in seq(0.5,0.9,0.1)){\n",
    "    for (n in seq(10)){\n",
    "        Y=as.matrix(read.table(paste('real data/bike.csv',sep=',')))\n",
    "        obs=as.matrix(read.table(paste('real data/bike-',n,'-',r,'-obs.txt',sep='')))\n",
    "        Y=Y*obs\n",
    "        X=EB_mmle_complete(Y,obs,iter=0,control=1)\n",
    "        write.table(X,paste('EBPM_MMLE_iter=0/bike-',n,'-',r,'-complete.txt',sep=''),row.names=F,col.names=F, sep=\" \")\n",
    "                    }}"
   ]
  },
  {
   "cell_type": "markdown",
   "id": "4f4258cb",
   "metadata": {},
   "source": [
    "## Brain image data "
   ]
  },
  {
   "cell_type": "code",
   "execution_count": null,
   "id": "105a4912",
   "metadata": {},
   "outputs": [],
   "source": [
    "options(warn=-1)\n",
    "for (r in seq(0.5,0.9,0.1)){\n",
    "    for (n in seq(10)){\n",
    "        Y=as.matrix(read.table(paste('real data/brain_image.csv',sep=',')))\n",
    "        obs=as.matrix(read.table(paste('real data/brain_image-',n,'-',r,'-obs.txt',sep='')))\n",
    "        Y=Y*obs\n",
    "        X=EB_mmle_complete(Y,obs)\n",
    "        write.table(X,paste('EBPM_MMLE/brain_image-',n,'-',r,'-complete.txt',sep=''),row.names=F,col.names=F, sep=\" \")\n",
    "                    }}"
   ]
  },
  {
   "cell_type": "code",
   "execution_count": null,
   "id": "c1e2f247",
   "metadata": {},
   "outputs": [],
   "source": [
    "options(warn=-1)\n",
    "for (r in seq(0.5,0.9,0.1)){\n",
    "    for (n in seq(10)){\n",
    "        Y=as.matrix(read.table(paste('real data/brain_image.csv',sep=',')))\n",
    "        obs=as.matrix(read.table(paste('real data/brain_image-',n,'-',r,'-obs.txt',sep='')))\n",
    "        Y=Y*obs\n",
    "        X=EB_mmle_complete(Y,obs,iter=0,control=1)\n",
    "        write.table(X,paste('EBPM_MMLE_iter=0/brain_image-',n,'-',r,'-complete.txt',sep=''),row.names=F,col.names=F, sep=\" \")\n",
    "                    }}"
   ]
  },
  {
   "cell_type": "code",
   "execution_count": null,
   "id": "d18ca8a6",
   "metadata": {},
   "outputs": [],
   "source": []
  }
 ],
 "metadata": {
  "kernelspec": {
   "display_name": "R",
   "language": "R",
   "name": "ir"
  },
  "language_info": {
   "codemirror_mode": "r",
   "file_extension": ".r",
   "mimetype": "text/x-r-source",
   "name": "R",
   "pygments_lexer": "r",
   "version": "4.2.2"
  }
 },
 "nbformat": 4,
 "nbformat_minor": 5
}
