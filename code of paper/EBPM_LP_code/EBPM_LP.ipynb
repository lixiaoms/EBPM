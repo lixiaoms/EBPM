{
 "cells": [
  {
   "cell_type": "code",
   "execution_count": null,
   "id": "36d7d88f",
   "metadata": {},
   "outputs": [],
   "source": [
    "source('EBPM_LP.R')"
   ]
  },
  {
   "cell_type": "markdown",
   "id": "adebc290",
   "metadata": {},
   "source": [
    "# Simulated data\n",
    "## change the length of matrix"
   ]
  },
  {
   "cell_type": "code",
   "execution_count": null,
   "id": "ee38db45",
   "metadata": {},
   "outputs": [],
   "source": [
    "q=100\n",
    "r=10\n",
    "for (p in seq(100,1000,100)){\n",
    "    t1=c()\n",
    "    t2=c()\n",
    "    for (n in seq(10)){\n",
    "        Y=as.matrix(read.table(paste('../simulated data/',p,'-100-10-',n,'.txt',sep='')))\n",
    "        obs=as.matrix(read.table(paste('../simulated data/',p,'-100-10-',n,'-obs.txt',sep='')))\n",
    "        \n",
    "        s=Sys.time()\n",
    "        X=EB_mle_denoise(Y)\n",
    "        e=Sys.time()\n",
    "        write.table(X,paste('../EBPM_LP/',p,'-100-10-',n,'-denoise.txt',sep=''),row.names=F,col.names=F, sep=\" \")\n",
    "        t1=c(t1,round(as.numeric(difftime(time1 = e, time2 = s, units = \"secs\")), 3))\n",
    "        \n",
    "        Y=Y*obs\n",
    "        s=Sys.time()\n",
    "        X=EB_mle_complete(Y,obs)\n",
    "        e=Sys.time()\n",
    "        write.table(X,paste('../EBPM_LP/',p,'-100-10-',n,'-complete.txt',sep=''),row.names=F,col.names=F, sep=\" \")\n",
    "        t2=c(t2,round(as.numeric(difftime(time1 = e, time2 = s, units = \"secs\")), 3))\n",
    "        }\n",
    "    write.table(t1,paste('../EBPM_LP/',p,'-100-10-denoise time.txt',sep=''),row.names=F,col.names=F, sep=\" \")\n",
    "    write.table(t2,paste('../EBPM_LP/',p,'-100-10-complete time.txt',sep=''),row.names=F,col.names=F, sep=\" \")\n",
    "    }"
   ]
  },
  {
   "cell_type": "code",
   "execution_count": null,
   "id": "d83eaa28",
   "metadata": {},
   "outputs": [],
   "source": []
  },
  {
   "cell_type": "code",
   "execution_count": null,
   "id": "139ff301",
   "metadata": {},
   "outputs": [],
   "source": [
    "q=100\n",
    "r=10\n",
    "for (p in seq(100,1000,100)){\n",
    "    t2=c()\n",
    "    for (n in seq(10)){\n",
    "        Y=as.matrix(read.table(paste('../simulated data/',p,'-100-10-',n,'.txt',sep='')))\n",
    "        obs=as.matrix(read.table(paste('../simulated data/',p,'-100-10-',n,'-obs.txt',sep='')))\n",
    "        \n",
    "        Y=Y*obs\n",
    "        s=Sys.time()\n",
    "        X=EB_mle_complete(Y,obs,iter=0)\n",
    "        e=Sys.time()\n",
    "        write.table(X,paste('../EBPM_LP_iter=0/',p,'-100-10-',n,'-complete.txt',sep=''),row.names=F,col.names=F, sep=\" \")\n",
    "        t2=c(t2,round(as.numeric(difftime(time1 = e, time2 = s, units = \"secs\")), 3))\n",
    "        }\n",
    "    write.table(t2,paste('../EBPM_LP_iter=0/',p,'-100-10-complete time.txt',sep=''),row.names=F,col.names=F, sep=\" \")\n",
    "    }"
   ]
  },
  {
   "cell_type": "markdown",
   "id": "ab6a294c",
   "metadata": {},
   "source": [
    "## change the rank of matrix "
   ]
  },
  {
   "cell_type": "code",
   "execution_count": null,
   "id": "2d247701",
   "metadata": {},
   "outputs": [],
   "source": [
    "p=500\n",
    "q=100\n",
    "for (r in seq(5,50,5)){\n",
    "    for (n in seq(10)){\n",
    "        Y=as.matrix(read.table(paste('../simulated data/500-100-',r,'-',n,'.txt',sep='')))\n",
    "        obs=as.matrix(read.table(paste('../simulated data/500-100-',r,'-',n,'-obs.txt',sep='')))\n",
    "        \n",
    "        X=EB_mle_denoise(Y)\n",
    "        write.table(X,paste('../EBPM_LP/500-100-',r,'-',n,'-denoise.txt',sep=''),row.names=F,col.names=F, sep=\" \")\n",
    "        \n",
    "        Y=Y*obs\n",
    "        X=EB_mle_complete(Y,obs)\n",
    "        write.table(X,paste('../EBPM_LP/500-100-',r,'-',n,'-complete.txt',sep=''),row.names=F,col.names=F, sep=\" \")\n",
    "                    }}"
   ]
  },
  {
   "cell_type": "code",
   "execution_count": null,
   "id": "b4b0181e",
   "metadata": {},
   "outputs": [],
   "source": [
    "p=500\n",
    "q=100\n",
    "for (r in seq(5,50,5)){\n",
    "    for (n in seq(10)){\n",
    "        Y=as.matrix(read.table(paste('../simulated data/500-100-',r,'-',n,'.txt',sep='')))\n",
    "        obs=as.matrix(read.table(paste('../simulated data/500-100-',r,'-',n,'-obs.txt',sep='')))\n",
    "        \n",
    "        Y=Y*obs\n",
    "        X=EB_mle_complete(Y,obs,iter=0)\n",
    "        write.table(X,paste('../EBPM_LP_iter=0/500-100-',r,'-',n,'-complete.txt',sep=''),row.names=F,col.names=F, sep=\" \")\n",
    "                    }}"
   ]
  },
  {
   "cell_type": "markdown",
   "id": "c6aad009",
   "metadata": {},
   "source": [
    "##  change the proportion of observations"
   ]
  },
  {
   "cell_type": "code",
   "execution_count": null,
   "id": "84ed29cc",
   "metadata": {},
   "outputs": [],
   "source": [
    "p=500\n",
    "q=100\n",
    "for (r in seq(0.1,0.9,0.1)){\n",
    "    for (n in seq(10)){\n",
    "        Y=as.matrix(read.table(paste('../simulated data/500-100-10-',n,'.txt',sep='')))\n",
    "        obs=as.matrix(read.table(paste('../simulated data/500-100-',n,'-',r,'-obs.txt',sep='')))\n",
    "        Y=Y*obs\n",
    "        X=EB_mle_complete(Y,obs,control=1)\n",
    "        write.table(X,paste('../EBPM_LP/500-100-',n,'-',r,'-complete.txt',sep=''),row.names=F,col.names=F, sep=\" \")\n",
    "                    }}"
   ]
  },
  {
   "cell_type": "code",
   "execution_count": null,
   "id": "bf2da575",
   "metadata": {},
   "outputs": [],
   "source": [
    "p=500\n",
    "q=100\n",
    "for (r in seq(0.1,0.9,0.1)){\n",
    "    for (n in seq(10)){\n",
    "        Y=as.matrix(read.table(paste('../simulated data/500-100-10-',n,'.txt',sep='')))\n",
    "        obs=as.matrix(read.table(paste('../simulated data/500-100-',n,'-',r,'-obs.txt',sep='')))\n",
    "        Y=Y*obs\n",
    "        X=EB_mle_complete(Y,obs,iter=0,control=1)\n",
    "        write.table(X,paste('../EBPM_LP_iter=0/500-100-',n,'-',r,'-complete.txt',sep=''),row.names=F,col.names=F, sep=\" \")\n",
    "                    }}"
   ]
  },
  {
   "cell_type": "markdown",
   "id": "f4a45a9f",
   "metadata": {},
   "source": [
    "# real data\n",
    "## hic data"
   ]
  },
  {
   "cell_type": "code",
   "execution_count": null,
   "id": "aab25e23",
   "metadata": {},
   "outputs": [],
   "source": [
    "for (r in seq(0.5,0.9,0.1)){\n",
    "    for (n in seq(10)){\n",
    "        Y=as.matrix(read.table(paste('../real data/hic_chr22_24_32_36mb.csv',sep=',')))\n",
    "        obs=as.matrix(read.table(paste('../real data/hic-',n,'-',r,'-obs.txt',sep='')))\n",
    "        Y=Y*obs\n",
    "        X=EB_mle_complete(Y,obs)\n",
    "        write.table(X,paste('../EBPM_LP/hic-',n,'-',r,'-complete.txt',sep=''),row.names=F,col.names=F, sep=\" \")\n",
    "                    }}"
   ]
  },
  {
   "cell_type": "code",
   "execution_count": null,
   "id": "4bfd5247",
   "metadata": {},
   "outputs": [],
   "source": [
    "for (r in seq(0.5,0.9,0.1)){\n",
    "    for (n in seq(10)){\n",
    "        Y=as.matrix(read.table(paste('../real data/hic_chr22_24_32_36mb.csv',sep=',')))\n",
    "        obs=as.matrix(read.table(paste('../real data/hic-',n,'-',r,'-obs.txt',sep='')))\n",
    "        Y=Y*obs\n",
    "        X=EB_mle_complete(Y,obs,iter=0)\n",
    "        write.table(X,paste('../EBPM_LP_iter=0/hic-',n,'-',r,'-complete.txt',sep=''),row.names=F,col.names=F, sep=\" \")\n",
    "                    }}"
   ]
  },
  {
   "cell_type": "markdown",
   "id": "e3fcbd5d",
   "metadata": {},
   "source": [
    "# bike data"
   ]
  },
  {
   "cell_type": "code",
   "execution_count": null,
   "id": "b981a159",
   "metadata": {},
   "outputs": [],
   "source": [
    "for (r in seq(0.5,0.9,0.1)){\n",
    "    for (n in seq(10)){\n",
    "        Y=as.matrix(read.table(paste('../real data/bike.csv',sep=',')))\n",
    "        obs=as.matrix(read.table(paste('../real data/bike-',n,'-',r,'-obs.txt',sep='')))\n",
    "        Y=Y*obs\n",
    "        X=EB_mle_complete(Y,obs)\n",
    "        write.table(X,paste('../EBPM_LP/bike-',n,'-',r,'-complete.txt',sep=''),row.names=F,col.names=F, sep=\" \")\n",
    "                    }}"
   ]
  },
  {
   "cell_type": "code",
   "execution_count": null,
   "id": "68a00e57",
   "metadata": {},
   "outputs": [],
   "source": [
    "for (r in seq(0.5,0.9,0.1)){\n",
    "    for (n in seq(10)){\n",
    "        Y=as.matrix(read.table(paste('../real data/bike.csv',sep=',')))\n",
    "        obs=as.matrix(read.table(paste('../real data/bike-',n,'-',r,'-obs.txt',sep='')))\n",
    "        Y=Y*obs\n",
    "        X=EB_mle_complete(Y,obs,iter=0)\n",
    "        write.table(X,paste('../EBPM_LP_iter=0/bike-',n,'-',r,'-complete.txt',sep=''),row.names=F,col.names=F, sep=\" \")\n",
    "                    }}"
   ]
  },
  {
   "cell_type": "markdown",
   "id": "5c979778",
   "metadata": {},
   "source": [
    "# Brain image data"
   ]
  },
  {
   "cell_type": "code",
   "execution_count": null,
   "id": "7226d8c9",
   "metadata": {},
   "outputs": [],
   "source": [
    "for (r in seq(0.5,0.9,0.1)){\n",
    "    for (n in seq(10)){\n",
    "        Y=as.matrix(read.table(paste('../real data/brain_image.csv',sep=',')))\n",
    "        obs=as.matrix(read.table(paste('../real data/brain_image-',n,'-',r,'-obs.txt',sep='')))\n",
    "        Y=Y*obs\n",
    "        X=EB_mle_complete(Y,obs)\n",
    "        write.table(X,paste('../EBPM_LP/brain_image-',n,'-',r,'-complete.txt',sep=''),row.names=F,col.names=F, sep=\" \")\n",
    "                    }}"
   ]
  },
  {
   "cell_type": "code",
   "execution_count": null,
   "id": "4718d28e",
   "metadata": {},
   "outputs": [],
   "source": [
    "for (r in seq(0.5,0.9,0.1)){\n",
    "    for (n in seq(10)){\n",
    "        Y=as.matrix(read.table(paste('../real data/brain_image.csv',sep=',')))\n",
    "        obs=as.matrix(read.table(paste('../real data/brain_image-',n,'-',r,'-obs.txt',sep='')))\n",
    "        Y=Y*obs\n",
    "        X=EB_mle_complete(Y,obs,iter=0)\n",
    "        write.table(X,paste('../EBPM_LP_iter=0/brain_image-',n,'-',r,'-complete.txt',sep=''),row.names=F,col.names=F, sep=\" \")\n",
    "                    }}"
   ]
  }
 ],
 "metadata": {
  "kernelspec": {
   "display_name": "R",
   "language": "R",
   "name": "ir"
  },
  "language_info": {
   "codemirror_mode": "r",
   "file_extension": ".r",
   "mimetype": "text/x-r-source",
   "name": "R",
   "pygments_lexer": "r",
   "version": "4.2.2"
  }
 },
 "nbformat": 4,
 "nbformat_minor": 5
}
