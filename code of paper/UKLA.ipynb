{
 "cells": [
  {
   "cell_type": "code",
   "execution_count": null,
   "id": "97731a1d",
   "metadata": {},
   "outputs": [],
   "source": [
    "import sys\n",
    "sys.path.append('./UKLA_code')"
   ]
  },
  {
   "cell_type": "code",
   "execution_count": null,
   "id": "8afe1515",
   "metadata": {},
   "outputs": [],
   "source": [
    "import numpy as np\n",
    "from os import listdir\n",
    "from os.path import isfile, join\n",
    "import re\n",
    "import matplotlib.pyplot as plt\n",
    "import poisson_matrices as pm\n",
    "from IPython.display import clear_output\n",
    "import time\n",
    "import utils"
   ]
  },
  {
   "cell_type": "code",
   "execution_count": null,
   "id": "18c6f053",
   "metadata": {},
   "outputs": [],
   "source": [
    "T = 100    # Number of iterations of FISTA\n",
    "eps = 1e-1 # Finite difference step\n",
    "N = 31     # Number of evaluation points\n",
    "O = 2      # Order of Taylor expansion\n",
    "R = 1\n"
   ]
  },
  {
   "cell_type": "markdown",
   "id": "8474602d",
   "metadata": {},
   "source": [
    "# Simulated data"
   ]
  },
  {
   "cell_type": "markdown",
   "id": "d42cb3fa",
   "metadata": {},
   "source": [
    "## change the length of matrix"
   ]
  },
  {
   "cell_type": "code",
   "execution_count": null,
   "id": "ea5da724",
   "metadata": {},
   "outputs": [],
   "source": [
    "q=100\n",
    "r=10\n",
    "for p in range(100,1001,100):\n",
    "    t1=[]\n",
    "    t2=[]\n",
    "    for n in range(1,11):\n",
    "        Y=np.loadtxt('simulated data/'+str(p)+'-100-10-'+str(n)+'.txt')\n",
    "        obs=np.loadtxt('simulated data/'+str(p)+'-100-10-'+str(n)+'-obs.txt')\n",
    "        \n",
    "        ## UKLA denoise\n",
    "        s=time.time()\n",
    "        zs = []    # Rademacher directions for Monte-Carlo (one per order)\n",
    "        for o in range(O):\n",
    "            zs = zs + [(2 * np.random.binomial(1, .5, size=Y.shape) - 1)]\n",
    "\n",
    "        UKL = np.zeros(N)\n",
    "        lbd_list = np.logspace(np.log10(.1), np.log10(100), N)\n",
    "        for rr in range(R):\n",
    "            for i in range(N):\n",
    "                lbd        = lbd_list[i]\n",
    "                func       = lambda Y: pm.shrink(Y, lbd=lbd, T=T)\n",
    "                UKL[i]     = pm.UKL(func, Y, eps=eps, directions=zs, order=O-1)\n",
    "        UKL = UKL / R\n",
    "        lbd = lbd_list[np.argmin(UKL)]\n",
    "        Xhat = pm.shrink(Y, lbd=lbd, T=T)\n",
    "        e=time.time()\n",
    "        t1.append(e-s)\n",
    "        np.savetxt('UKLA/'+str(p)+'-100-10-'+str(n)+'-denoise.txt',Xhat)\n",
    "        \n",
    "        ## UKLA complete\n",
    "        s=time.time()\n",
    "        Xhat = pm.complete(Y*obs, obs)\n",
    "        e=time.time()\n",
    "        t2.append(e-s)\n",
    "        np.savetxt('UKLA/'+str(p)+'-100-10-'+str(n)+'-complete.txt',Xhat)\n",
    "        \n",
    "    np.savetxt('UKLA/'+str(p)+'-100-10-denoise time.txt',t1)\n",
    "    np.savetxt('UKLA/'+str(p)+'-100-10-complete time.txt',t2)"
   ]
  },
  {
   "cell_type": "markdown",
   "id": "1ed4ccbb",
   "metadata": {},
   "source": [
    "## change the rank of matrix  "
   ]
  },
  {
   "cell_type": "code",
   "execution_count": null,
   "id": "0ebe54c2",
   "metadata": {},
   "outputs": [],
   "source": [
    "p=500\n",
    "q=100\n",
    "for r in range(5,51,5):\n",
    "    for n in range(1,11):\n",
    "        Y=np.loadtxt('simulated data/500-100-'+str(r)+'-'+str(n)+'.txt')\n",
    "        obs=np.loadtxt('simulated data/500-100-'+str(r)+'-'+str(n)+'-obs.txt')\n",
    "        \n",
    "        ## UKLA denoise\n",
    "        zs = []    # Rademacher directions for Monte-Carlo (one per order)\n",
    "        for o in range(O):\n",
    "            zs = zs + [(2 * np.random.binomial(1, .5, size=Y.shape) - 1)]\n",
    "\n",
    "        UKL = np.zeros(N)\n",
    "        lbd_list = np.logspace(np.log10(.1), np.log10(100), N)\n",
    "        for rr in range(R):\n",
    "            for i in range(N):\n",
    "                lbd        = lbd_list[i]\n",
    "                func       = lambda Y: pm.shrink(Y, lbd=lbd, T=T)\n",
    "                UKL[i]     = pm.UKL(func, Y, eps=eps, directions=zs, order=O-1)\n",
    "        UKL = UKL / R\n",
    "        lbd = lbd_list[np.argmin(UKL)]\n",
    "        Xhat = pm.shrink(Y, lbd=lbd, T=T)\n",
    "        np.savetxt('UKLA/500-100-'+str(r)+'-'+str(n)+'-denoise.txt',Xhat)\n",
    "        \n",
    "        ## UKLA complete\n",
    "        Xhat = pm.complete(Y*obs, obs)\n",
    "        np.savetxt('UKLA/500-100-'+str(r)+'-'+str(n)+'-complete.txt',Xhat)"
   ]
  },
  {
   "cell_type": "markdown",
   "id": "60b3aa38",
   "metadata": {},
   "source": [
    "## change the proportion of observations"
   ]
  },
  {
   "cell_type": "code",
   "execution_count": null,
   "id": "2f88488c",
   "metadata": {},
   "outputs": [],
   "source": [
    "p=500\n",
    "q=100\n",
    "for r in range(1,10):\n",
    "    for n in range(1,11):\n",
    "        Y=np.loadtxt('simulated data/500-100-10-'+str(n)+'.txt')\n",
    "        obs=np.loadtxt('simulated data/500-100-'+str(n)+'-'+str(r/10)+'-obs.txt')\n",
    "        \n",
    "        ## UKLA complete\n",
    "        Xhat = pm.complete(Y*obs, obs)\n",
    "        np.savetxt('UKLA/500-100-'+str(n)+'-'+str(r/10)+'-complete.txt',Xhat)\n",
    "        "
   ]
  },
  {
   "cell_type": "markdown",
   "id": "4ffce5a7",
   "metadata": {},
   "source": [
    "# Real data"
   ]
  },
  {
   "cell_type": "markdown",
   "id": "f491cf2f",
   "metadata": {},
   "source": [
    "## hic data "
   ]
  },
  {
   "cell_type": "code",
   "execution_count": null,
   "id": "f5f7a59c",
   "metadata": {},
   "outputs": [],
   "source": [
    "for r in range(5,10):\n",
    "    for n in range(1,11):\n",
    "        Y=np.loadtxt('real data/hic_chr22_24_32_36mb.csv')\n",
    "        obs=np.loadtxt('real data/hic-'+str(n)+'-'+str(r/10)+'-obs.txt')\n",
    "        \n",
    "        ## UKLA complete\n",
    "        Xhat = pm.complete(Y*obs, obs)\n",
    "        np.savetxt('UKLA/hic-'+str(n)+'-'+str(r/10)+'-complete.txt',Xhat)"
   ]
  },
  {
   "cell_type": "markdown",
   "id": "016e0ee5",
   "metadata": {},
   "source": [
    "## bike data"
   ]
  },
  {
   "cell_type": "code",
   "execution_count": null,
   "id": "fe746b48",
   "metadata": {},
   "outputs": [],
   "source": [
    "for r in range(5,10):\n",
    "    for n in range(1,11):\n",
    "        Y=np.loadtxt('real data/bike.csv')\n",
    "        obs=np.loadtxt('real data/bike-'+str(n)+'-'+str(r/10)+'-obs.txt')\n",
    "        \n",
    "        ## UKLA complete\n",
    "        Xhat = pm.complete(Y*obs, obs)\n",
    "        np.savetxt('UKLA/bike-'+str(n)+'-'+str(r/10)+'-complete.txt',Xhat)"
   ]
  },
  {
   "cell_type": "markdown",
   "id": "375a95e8",
   "metadata": {},
   "source": [
    "## brain image data "
   ]
  },
  {
   "cell_type": "code",
   "execution_count": null,
   "id": "236af1f6",
   "metadata": {},
   "outputs": [],
   "source": [
    "for r in range(5,10):\n",
    "    for n in range(1,11):\n",
    "        Y=np.loadtxt('real data/brain_image.csv')\n",
    "        obs=np.loadtxt('real data/brain_image-'+str(n)+'-'+str(r/10)+'-obs.txt')\n",
    "        \n",
    "        ## UKLA complete\n",
    "        Xhat = pm.complete(Y*obs, obs)\n",
    "        np.savetxt('UKLA/brain_image-'+str(n)+'-'+str(r/10)+'-complete.txt',Xhat)"
   ]
  },
  {
   "cell_type": "code",
   "execution_count": null,
   "id": "c1159c75",
   "metadata": {},
   "outputs": [],
   "source": []
  }
 ],
 "metadata": {
  "kernelspec": {
   "display_name": "Python 3 (ipykernel)",
   "language": "python",
   "name": "python3"
  },
  "language_info": {
   "codemirror_mode": {
    "name": "ipython",
    "version": 3
   },
   "file_extension": ".py",
   "mimetype": "text/x-python",
   "name": "python",
   "nbconvert_exporter": "python",
   "pygments_lexer": "ipython3",
   "version": "3.9.12"
  }
 },
 "nbformat": 4,
 "nbformat_minor": 5
}
